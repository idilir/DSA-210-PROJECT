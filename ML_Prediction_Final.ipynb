{
 "cells": [
  {
   "cell_type": "markdown",
   "id": "129590a7",
   "metadata": {},
   "source": [
    "\n",
    "# ☕ Coffee Shop Sales Prediction\n",
    "**Date:** 2025-05-28\n",
    "\n",
    "This notebook explores how weather and time factors affect coffee shop sales, quantity sold, and product category using real transaction and weather data.\n",
    "\n",
    "Three machine learning models are used:\n",
    "- Regression to predict `total_sales`\n",
    "- Regression to predict `transaction_qty`\n",
    "- Classification to predict `product_category`\n"
   ]
  },
  {
   "cell_type": "code",
   "execution_count": null,
   "id": "f00e92e6",
   "metadata": {},
   "outputs": [],
   "source": [
    "\n",
    "import pandas as pd\n",
    "import numpy as np\n",
    "import seaborn as sns\n",
    "import matplotlib.pyplot as plt\n",
    "\n",
    "from sklearn.model_selection import train_test_split\n",
    "from sklearn.ensemble import RandomForestRegressor, RandomForestClassifier\n",
    "from sklearn.metrics import mean_squared_error, r2_score, classification_report, confusion_matrix\n"
   ]
  },
  {
   "cell_type": "code",
   "execution_count": null,
   "id": "670f06cf",
   "metadata": {},
   "outputs": [],
   "source": [
    "\n",
    "df = pd.read_csv(\"coffee_weather_ml_ready.csv\")\n",
    "df.head()\n"
   ]
  },
  {
   "cell_type": "code",
   "execution_count": null,
   "id": "df70c4d7",
   "metadata": {},
   "outputs": [],
   "source": [
    "\n",
    "features = ['avg_temp_c', 'rain_mm', 'is_rainy', 'hour', 'is_weekend',\n",
    "            'temperature_bin_Cool', 'temperature_bin_Mild', 'temperature_bin_Warm',\n",
    "            'time_of_day_Afternoon', 'time_of_day_Evening']\n",
    "X = df[features]\n"
   ]
  },
  {
   "cell_type": "code",
   "execution_count": null,
   "id": "4fd81b9e",
   "metadata": {},
   "outputs": [],
   "source": [
    "\n",
    "y = df['total_sales']\n",
    "X_train, X_test, y_train, y_test = train_test_split(X, y, test_size=0.2, random_state=42)\n",
    "model = RandomForestRegressor(random_state=42)\n",
    "model.fit(X_train, y_train)\n",
    "y_pred = model.predict(X_test)\n",
    "print(\"Total Sales Prediction\")\n",
    "print(\"RMSE:\", mean_squared_error(y_test, y_pred, squared=False))\n",
    "print(\"R²:\", r2_score(y_test, y_pred))\n"
   ]
  },
  {
   "cell_type": "code",
   "execution_count": null,
   "id": "d1cd3bfa",
   "metadata": {},
   "outputs": [],
   "source": [
    "\n",
    "y = df['transaction_qty']\n",
    "X_train, X_test, y_train, y_test = train_test_split(X, y, test_size=0.2, random_state=42)\n",
    "model = RandomForestRegressor(random_state=42)\n",
    "model.fit(X_train, y_train)\n",
    "y_pred = model.predict(X_test)\n",
    "print(\"Transaction Quantity Prediction\")\n",
    "print(\"RMSE:\", mean_squared_error(y_test, y_pred, squared=False))\n",
    "print(\"R²:\", r2_score(y_test, y_pred))\n"
   ]
  },
  {
   "cell_type": "code",
   "execution_count": null,
   "id": "a5278131",
   "metadata": {},
   "outputs": [],
   "source": [
    "\n",
    "y = df['category_encoded']\n",
    "X_train, X_test, y_train, y_test = train_test_split(X, y, test_size=0.2, random_state=42)\n",
    "model = RandomForestClassifier(random_state=42)\n",
    "model.fit(X_train, y_train)\n",
    "y_pred = model.predict(X_test)\n",
    "print(\"Product Category Classification\")\n",
    "print(classification_report(y_test, y_pred))\n",
    "\n",
    "conf_matrix = confusion_matrix(y_test, y_pred)\n",
    "plt.figure(figsize=(8, 5))\n",
    "sns.heatmap(conf_matrix, annot=True, fmt='d', cmap='Blues')\n",
    "plt.title('Confusion Matrix for Product Category')\n",
    "plt.xlabel('Predicted')\n",
    "plt.ylabel('Actual')\n",
    "plt.tight_layout()\n",
    "plt.show()\n"
   ]
  }
 ],
 "metadata": {},
 "nbformat": 4,
 "nbformat_minor": 5
}
